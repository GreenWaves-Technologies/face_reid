{
 "cells": [
  {
   "cell_type": "code",
   "execution_count": 1,
   "id": "8385f415-ef9c-4ad1-9dbb-0fbcc7f79f4c",
   "metadata": {},
   "outputs": [],
   "source": [
    "from nntool.api import NNGraph\n",
    "from nntool.api.utils import quantization_options, model_settings\n",
    "import numpy as np\n",
    "import random\n",
    "import cv2\n",
    "import os\n",
    "from scipy.spatial import distance\n",
    "from numpy.linalg import norm\n",
    "import matplotlib.pyplot as plt\n",
    "import matplotlib.patches as patches\n",
    "%matplotlib widget\n",
    "import logging\n",
    "logging.basicConfig(level=logging.ERROR)"
   ]
  },
  {
   "cell_type": "markdown",
   "id": "0c361208",
   "metadata": {},
   "source": [
    "## Load Net and Print Stats"
   ]
  },
  {
   "cell_type": "code",
   "execution_count": 2,
   "id": "49cb311c-c35a-45d4-a6ad-b664c1581109",
   "metadata": {},
   "outputs": [
    {
     "name": "stdout",
     "output_type": "stream",
     "text": [
      "face_id:\n",
      "\tMax Active Size:\t257216 elements\n",
      "\tTotal # Parameters:\t520216 elements\n",
      "\tTotal # Operations:\t33.54 MOps\n"
     ]
    }
   ],
   "source": [
    "G = NNGraph.load_graph(\"face_id.onnx\", load_quantization=False)\n",
    "max_activ_size, total_params = G.total_memory_usage\n",
    "ops = G.total_ops\n",
    "#G.draw(filepath=\"draw\", view=True)\n",
    "\n",
    "print(f\"{G.name}:\")\n",
    "print(f\"\\tMax Active Size:\\t{max_activ_size} elements\")\n",
    "print(f\"\\tTotal # Parameters:\\t{total_params} elements\")\n",
    "print(f\"\\tTotal # Operations:\\t{ops / 1e6:.2f} MOps\")"
   ]
  },
  {
   "cell_type": "code",
   "execution_count": 3,
   "id": "14421a62-8a2d-4b92-a504-eb3e58c18f01",
   "metadata": {},
   "outputs": [],
   "source": [
    "G.adjust_order()\n",
    "G.fusions('scaled_match_group')\n",
    "G.fusions('expression_matcher')"
   ]
  },
  {
   "cell_type": "markdown",
   "id": "bc200ad2",
   "metadata": {},
   "source": [
    "## Quantize Net"
   ]
  },
  {
   "cell_type": "code",
   "execution_count": 4,
   "id": "77cc8721-e286-4aa0-aec0-7df19667a6c2",
   "metadata": {},
   "outputs": [
    {
     "name": "stderr",
     "output_type": "stream",
     "text": [
      "100%|██████████| 100/100 [00:14<00:00,  6.83it/s]\n"
     ]
    }
   ],
   "source": [
    "from tqdm import tqdm\n",
    "\n",
    "folder_in = \"/home/francesco/works/machine_learning/face_id/DATASETS/CASIA-WebFace_cropped/\"\n",
    "\n",
    "CALIBRATION_IMGS = []\n",
    "\n",
    "#init seed to be reproducible choices\n",
    "random.seed(10)\n",
    "\n",
    "for root, dirs, files in os.walk(folder_in):\n",
    "    for file in files:\n",
    "        CALIBRATION_IMGS.append(os.path.join(root, file))\n",
    "\n",
    "def representative_dataset():\n",
    "    for image in tqdm(random.choices(CALIBRATION_IMGS, k=100)):\n",
    "        img = (((cv2.imread(image).astype(np.float32))) / 256)\n",
    "        img = img.transpose(2, 0, 1)\n",
    "        #img=img.reshape(3,112,112)\n",
    "        yield img\n",
    "\n",
    "\n",
    "\n",
    "float_nodes=['_gdc_gdc_0_Conv_fusion_qin0','_gdc_gdc_0_Conv_fusion','_linearconv_Conv_qin0','_linearconv_Conv','_linearconv_Conv_reshape','_Reshape_2','output_1' ]\n",
    "\n",
    "stats = G.collect_statistics(representative_dataset())\n",
    "#,force_input_size=16,force_output_size=16\n",
    "G.quantize(\n",
    "    statistics=stats,\n",
    "    graph_options=quantization_options(bits=8,use_ne16=True,hwc=True),\n",
    "    # Select specific nodes and move to different quantization Scheme - TOTAL FLEXIBILITY\n",
    "    node_options={\n",
    "        n:quantization_options(scheme=\"FLOAT\",float_type=\"bfloat16\") \n",
    "            for n in float_nodes\n",
    "    }\n",
    ")\n",
    "\n",
    "# G.quantize(\n",
    "#     statistics=stats,\n",
    "#     graph_options={\n",
    "#         \"scheme\": \"FLOAT\",\n",
    "#         \"float_type\": \"float16\"\n",
    "#     })"
   ]
  },
  {
   "cell_type": "markdown",
   "id": "71199335",
   "metadata": {},
   "source": [
    "## Eval Quantization"
   ]
  },
  {
   "cell_type": "code",
   "execution_count": 13,
   "id": "c7a742ae-c683-4590-8186-e24b3a873c36",
   "metadata": {},
   "outputs": [
    {
     "ename": "ValueError",
     "evalue": "input_1 received input of shape (3, 112, 112) but expecting [112, 112, 3]",
     "output_type": "error",
     "traceback": [
      "\u001b[0;31m---------------------------------------------------------------------------\u001b[0m",
      "\u001b[0;31mValueError\u001b[0m                                Traceback (most recent call last)",
      "Cell \u001b[0;32mIn[13], line 9\u001b[0m\n\u001b[1;32m      6\u001b[0m francesco_2 \u001b[39m=\u001b[39m (francesco_2\u001b[39m.\u001b[39mastype(np\u001b[39m.\u001b[39mfloat32)) \u001b[39m/\u001b[39m \u001b[39m256\u001b[39m\n\u001b[1;32m      7\u001b[0m \u001b[39m#francesco_2 = francesco_2.transpose(2, 0, 1)\u001b[39;00m\n\u001b[0;32m----> 9\u001b[0m float_execution_0 \u001b[39m=\u001b[39m G\u001b[39m.\u001b[39;49mexecute([francesco_1], quantize\u001b[39m=\u001b[39;49m\u001b[39mFalse\u001b[39;49;00m)\n\u001b[1;32m     10\u001b[0m quant_execution_0 \u001b[39m=\u001b[39m G\u001b[39m.\u001b[39mexecute([francesco_1], quantize\u001b[39m=\u001b[39m\u001b[39mTrue\u001b[39;00m, dequantize\u001b[39m=\u001b[39m\u001b[39mTrue\u001b[39;00m)\n\u001b[1;32m     12\u001b[0m float_execution_1 \u001b[39m=\u001b[39m G\u001b[39m.\u001b[39mexecute([francesco_2], quantize\u001b[39m=\u001b[39m\u001b[39mFalse\u001b[39;00m)\n",
      "File \u001b[0;32m~/works/release/gitlab_sdk/tools/nntool/nntool/graph/nngraph.py:1394\u001b[0m, in \u001b[0;36mNNGraph.execute\u001b[0;34m(self, input_tensors, quantize, dequantize, fake_quantize, output_fusion_tensors, check_quantization, execution_stats, zero_ops_threshold, details, output_dict)\u001b[0m\n\u001b[1;32m   1392\u001b[0m     \u001b[39mif\u001b[39;00m zero_ops_threshold \u001b[39mis\u001b[39;00m \u001b[39mnot\u001b[39;00m \u001b[39mNone\u001b[39;00m:\n\u001b[1;32m   1393\u001b[0m         kwargs[\u001b[39m'\u001b[39m\u001b[39mzero_ops_threshold\u001b[39m\u001b[39m'\u001b[39m] \u001b[39m=\u001b[39m zero_ops_threshold\n\u001b[0;32m-> 1394\u001b[0m \u001b[39mreturn\u001b[39;00m executer\u001b[39m.\u001b[39;49mexecute(input_tensors, qmode\u001b[39m=\u001b[39;49mqmode, append_fusion_output\u001b[39m=\u001b[39;49moutput_fusion_tensors, output_dict\u001b[39m=\u001b[39;49moutput_dict, \u001b[39m*\u001b[39;49m\u001b[39m*\u001b[39;49mkwargs)\n",
      "File \u001b[0;32m~/works/release/gitlab_sdk/tools/nntool/nntool/execution/graph_executer.py:350\u001b[0m, in \u001b[0;36mGraphExecuter.execute\u001b[0;34m(self, in_tensors, step_idx_limit, only_yield_step, qmode, all_details, yield_fusions, append_fusion_output, silent, output_dict, **kwargs)\u001b[0m\n\u001b[1;32m    343\u001b[0m     iterator \u001b[39m=\u001b[39m [(qoutput, qdetails, fnode, node)\n\u001b[1;32m    344\u001b[0m                 \u001b[39mfor\u001b[39;00m _, node, _, _, qoutput, qdetails, fnode\n\u001b[1;32m    345\u001b[0m                 \u001b[39min\u001b[39;00m \u001b[39mself\u001b[39m\u001b[39m.\u001b[39mexecute_qnoq_iterator(in_tensors,\n\u001b[1;32m    346\u001b[0m                                               yield_fusions\u001b[39m=\u001b[39myield_fusions \u001b[39mor\u001b[39;00m append_fusion_output,\n\u001b[1;32m    347\u001b[0m                                               step_idx_limit\u001b[39m=\u001b[39mstep_idx_limit,\n\u001b[1;32m    348\u001b[0m                                               silent\u001b[39m=\u001b[39msilent)]\n\u001b[1;32m    349\u001b[0m \u001b[39melse\u001b[39;00m:\n\u001b[0;32m--> 350\u001b[0m     iterator \u001b[39m=\u001b[39m [(output_tensors, details, fnode, node)\n\u001b[1;32m    351\u001b[0m                 \u001b[39mfor\u001b[39;00m _, node, fnode, output_tensors, details\n\u001b[1;32m    352\u001b[0m                 \u001b[39min\u001b[39;00m \u001b[39mself\u001b[39m\u001b[39m.\u001b[39mexecute_iterator(in_tensors, step_idx_limit\u001b[39m=\u001b[39mstep_idx_limit,\n\u001b[1;32m    353\u001b[0m                                          qmode\u001b[39m=\u001b[39mqmode,\n\u001b[1;32m    354\u001b[0m                                          yield_fusions\u001b[39m=\u001b[39myield_fusions \u001b[39mor\u001b[39;00m append_fusion_output,\n\u001b[1;32m    355\u001b[0m                                          only_yield_step\u001b[39m=\u001b[39monly_yield_step,\n\u001b[1;32m    356\u001b[0m                                          yield_details\u001b[39m=\u001b[39mall_details \u001b[39mis\u001b[39;00m \u001b[39mnot\u001b[39;00m \u001b[39mNone\u001b[39;00m,\n\u001b[1;32m    357\u001b[0m                                          silent\u001b[39m=\u001b[39msilent,\n\u001b[1;32m    358\u001b[0m                                          \u001b[39m*\u001b[39m\u001b[39m*\u001b[39mkwargs)]\n\u001b[1;32m    360\u001b[0m \u001b[39mif\u001b[39;00m output_dict:\n\u001b[1;32m    361\u001b[0m     outputs \u001b[39m=\u001b[39m {}\n",
      "File \u001b[0;32m~/works/release/gitlab_sdk/tools/nntool/nntool/execution/graph_executer.py:350\u001b[0m, in \u001b[0;36m<listcomp>\u001b[0;34m(.0)\u001b[0m\n\u001b[1;32m    343\u001b[0m     iterator \u001b[39m=\u001b[39m [(qoutput, qdetails, fnode, node)\n\u001b[1;32m    344\u001b[0m                 \u001b[39mfor\u001b[39;00m _, node, _, _, qoutput, qdetails, fnode\n\u001b[1;32m    345\u001b[0m                 \u001b[39min\u001b[39;00m \u001b[39mself\u001b[39m\u001b[39m.\u001b[39mexecute_qnoq_iterator(in_tensors,\n\u001b[1;32m    346\u001b[0m                                               yield_fusions\u001b[39m=\u001b[39myield_fusions \u001b[39mor\u001b[39;00m append_fusion_output,\n\u001b[1;32m    347\u001b[0m                                               step_idx_limit\u001b[39m=\u001b[39mstep_idx_limit,\n\u001b[1;32m    348\u001b[0m                                               silent\u001b[39m=\u001b[39msilent)]\n\u001b[1;32m    349\u001b[0m \u001b[39melse\u001b[39;00m:\n\u001b[0;32m--> 350\u001b[0m     iterator \u001b[39m=\u001b[39m [(output_tensors, details, fnode, node)\n\u001b[1;32m    351\u001b[0m                 \u001b[39mfor\u001b[39;00m _, node, fnode, output_tensors, details\n\u001b[1;32m    352\u001b[0m                 \u001b[39min\u001b[39;00m \u001b[39mself\u001b[39m\u001b[39m.\u001b[39mexecute_iterator(in_tensors, step_idx_limit\u001b[39m=\u001b[39mstep_idx_limit,\n\u001b[1;32m    353\u001b[0m                                          qmode\u001b[39m=\u001b[39mqmode,\n\u001b[1;32m    354\u001b[0m                                          yield_fusions\u001b[39m=\u001b[39myield_fusions \u001b[39mor\u001b[39;00m append_fusion_output,\n\u001b[1;32m    355\u001b[0m                                          only_yield_step\u001b[39m=\u001b[39monly_yield_step,\n\u001b[1;32m    356\u001b[0m                                          yield_details\u001b[39m=\u001b[39mall_details \u001b[39mis\u001b[39;00m \u001b[39mnot\u001b[39;00m \u001b[39mNone\u001b[39;00m,\n\u001b[1;32m    357\u001b[0m                                          silent\u001b[39m=\u001b[39msilent,\n\u001b[1;32m    358\u001b[0m                                          \u001b[39m*\u001b[39m\u001b[39m*\u001b[39mkwargs)]\n\u001b[1;32m    360\u001b[0m \u001b[39mif\u001b[39;00m output_dict:\n\u001b[1;32m    361\u001b[0m     outputs \u001b[39m=\u001b[39m {}\n",
      "File \u001b[0;32m~/works/release/gitlab_sdk/tools/nntool/nntool/execution/graph_executer.py:243\u001b[0m, in \u001b[0;36mGraphExecuter.execute_iterator\u001b[0;34m(self, in_tensors, step_idx_limit, start_node, qmode, yield_fusions, yield_details, only_yield_step, record_inputs, silent, parent_node, parent_step_idx, saved_outputs, G, **kwargs)\u001b[0m\n\u001b[1;32m    240\u001b[0m         output_tensors[f_output\u001b[39m.\u001b[39midx] \u001b[39m=\u001b[39m saved_outputs[f_output][\u001b[39m0\u001b[39m]\n\u001b[1;32m    242\u001b[0m \u001b[39melif\u001b[39;00m \u001b[39misinstance\u001b[39m(node, (InputNode, FusionInputNode)):\n\u001b[0;32m--> 243\u001b[0m     output_tensors \u001b[39m=\u001b[39m KernelExecuter\u001b[39m.\u001b[39;49mexecute(\n\u001b[1;32m    244\u001b[0m         node, in_tensors, kernel_qrec, details\u001b[39m=\u001b[39;49mdetails, \u001b[39m*\u001b[39;49m\u001b[39m*\u001b[39;49mkwargs)\n\u001b[1;32m    245\u001b[0m \u001b[39melse\u001b[39;00m:\n\u001b[1;32m    246\u001b[0m     output_tensors \u001b[39m=\u001b[39m KernelExecuter\u001b[39m.\u001b[39mexecute(\n\u001b[1;32m    247\u001b[0m         node, output_tensors, kernel_qrec, details\u001b[39m=\u001b[39mdetails, \u001b[39m*\u001b[39m\u001b[39m*\u001b[39mkwargs)\n",
      "File \u001b[0;32m~/works/release/gitlab_sdk/tools/nntool/nntool/execution/kernels/kernel_executer.py:67\u001b[0m, in \u001b[0;36mKernelExecuter.execute\u001b[0;34m(cls, params, input_tensors, qrec, details, **kwargs)\u001b[0m\n\u001b[1;32m     65\u001b[0m         search_for_class \u001b[39m=\u001b[39m params\u001b[39m.\u001b[39m\u001b[39m__class__\u001b[39m\u001b[39m.\u001b[39m__base__\n\u001b[1;32m     66\u001b[0m         \u001b[39mcontinue\u001b[39;00m\n\u001b[0;32m---> 67\u001b[0m     output_tensors \u001b[39m=\u001b[39m handler\u001b[39m.\u001b[39;49mexecute(params, input_tensors,\n\u001b[1;32m     68\u001b[0m                                     qrec, details\u001b[39m=\u001b[39;49mdetails,\n\u001b[1;32m     69\u001b[0m                                     qname\u001b[39m=\u001b[39;49mqrec\u001b[39m.\u001b[39;49mktype,\n\u001b[1;32m     70\u001b[0m                                     \u001b[39m*\u001b[39;49m\u001b[39m*\u001b[39;49mkwargs)\n\u001b[1;32m     72\u001b[0m     \u001b[39mreturn\u001b[39;00m output_tensors\n\u001b[1;32m     73\u001b[0m \u001b[39mraise\u001b[39;00m \u001b[39mValueError\u001b[39;00m(\u001b[39mf\u001b[39m\u001b[39m\"\u001b[39m\u001b[39mno handlers found for \u001b[39m\u001b[39m{\u001b[39;00mparams\u001b[39m.\u001b[39m\u001b[39m__class__\u001b[39m\u001b[39m.\u001b[39m\u001b[39m__name__\u001b[39m\u001b[39m}\u001b[39;00m\u001b[39m \u001b[39m\u001b[39m\"\u001b[39m\n\u001b[1;32m     74\u001b[0m                  \u001b[39mf\u001b[39m\u001b[39m\"\u001b[39m\u001b[39mquantization \u001b[39m\u001b[39m{\u001b[39;00mqrec\u001b[39m.\u001b[39mktype\u001b[39m \u001b[39m\u001b[39mif\u001b[39;00m\u001b[39m \u001b[39mqrec\u001b[39m \u001b[39m\u001b[39melse\u001b[39;00m\u001b[39m \u001b[39m\u001b[39m'\u001b[39m\u001b[39munknown\u001b[39m\u001b[39m'\u001b[39m\u001b[39m}\u001b[39;00m\u001b[39m\"\u001b[39m)\n",
      "File \u001b[0;32m~/works/release/gitlab_sdk/tools/nntool/nntool/execution/kernels/float/tensor_functions.py:52\u001b[0m, in \u001b[0;36mInputFloat32.execute\u001b[0;34m(cls, params, in_tensors, qrec, **kwargs)\u001b[0m\n\u001b[1;32m     50\u001b[0m         expected_shape \u001b[39m=\u001b[39m \u001b[39mtuple\u001b[39m(dim \u001b[39mfor\u001b[39;00m dim \u001b[39min\u001b[39;00m params\u001b[39m.\u001b[39mdims\u001b[39m.\u001b[39mshape \u001b[39mif\u001b[39;00m dim \u001b[39m>\u001b[39m \u001b[39m1\u001b[39m)\n\u001b[1;32m     51\u001b[0m         \u001b[39mif\u001b[39;00m in_shape \u001b[39m!=\u001b[39m expected_shape:\n\u001b[0;32m---> 52\u001b[0m             \u001b[39mraise\u001b[39;00m \u001b[39mValueError\u001b[39;00m(\u001b[39mf\u001b[39m\u001b[39m'\u001b[39m\u001b[39m{\u001b[39;00mparams\u001b[39m.\u001b[39mname\u001b[39m}\u001b[39;00m\u001b[39m received input of shape \u001b[39m\u001b[39m{\u001b[39;00min_tensor\u001b[39m.\u001b[39mshape\u001b[39m}\u001b[39;00m\u001b[39m but expecting \u001b[39m\u001b[39m{\u001b[39;00mparams\u001b[39m.\u001b[39mdims\u001b[39m.\u001b[39mshape\u001b[39m}\u001b[39;00m\u001b[39m'\u001b[39m)\n\u001b[1;32m     53\u001b[0m     in_tensor \u001b[39m=\u001b[39m in_tensor\u001b[39m.\u001b[39mreshape(params\u001b[39m.\u001b[39mdims\u001b[39m.\u001b[39mshape)\n\u001b[1;32m     54\u001b[0m \u001b[39melse\u001b[39;00m:\n",
      "\u001b[0;31mValueError\u001b[0m: input_1 received input of shape (3, 112, 112) but expecting [112, 112, 3]"
     ]
    }
   ],
   "source": [
    "francesco_1 = cv2.imread(\"../cropped_faces/francesco_1.png_face_crop.ppm\")\n",
    "francesco_1 = (francesco_1.astype(np.float32)) / 256\n",
    "#francesco_1 = francesco_1.transpose(2, 0, 1)\n",
    "\n",
    "francesco_2 = cv2.imread(\"../cropped_faces/francesco_2.png_face_crop.png\")\n",
    "francesco_2 = (francesco_2.astype(np.float32)) / 256\n",
    "#francesco_2 = francesco_2.transpose(2, 0, 1)\n",
    "\n",
    "float_execution_0 = G.execute([francesco_1], quantize=False)\n",
    "quant_execution_0 = G.execute([francesco_1], quantize=True, dequantize=True)\n",
    "\n",
    "float_execution_1 = G.execute([francesco_2], quantize=False)\n",
    "quant_execution_1 = G.execute([francesco_2], quantize=True, dequantize=True)\n",
    "\n",
    "def cos_sim(a,b):\n",
    "    return 100*round(1 - (np.dot(a, b)/(norm(a)*norm(b))),4)\n",
    "\n",
    "# print(\"Cos distance --> Francesco_0 float , Francesco_0 quant\")\n",
    "# print(cos_sim(np.array(float_execution_0[-1]).reshape(128),np.array(quant_execution_0[-1]).reshape(128)))\n",
    "\n",
    "# print(\"Cos distance --> Francesco_0 float , Francesco_1 float\")\n",
    "# print(cos_sim(np.array(float_execution_0[-1]).reshape(128),np.array(float_execution_1[-1]).reshape(128)))\n",
    "# print(\"Cos distance --> Francesco_0 quant , Francesco_1 quant\")\n",
    "# print(cos_sim(np.array(quant_execution_0[-1]).reshape(128),np.array(quant_execution_1[-1]).reshape(128)))\n",
    "\n",
    "#print(float_execution_0[-1])\n",
    "print(quant_execution_0[-1])\n",
    "\n",
    "\n",
    "# from nntool.graph.types import ConstantInputNode\n",
    "# qsnrs_by_layer = G.qsnrs(float_execution_0, quant_execution_0)\n",
    "# print(\"QSNR layer by layer (skipping constant layers like weights and biases):\")\n",
    "# print(f\"{'Layer Name':>30} (  #): {'QSNR':4}\")\n",
    "# for i, q in enumerate(qsnrs_by_layer):\n",
    "#     if isinstance(G[i], ConstantInputNode):\n",
    "#         continue\n",
    "#     #print(f\"{G[i].name[0:20]:>30} ({i:3}): {q:4}\")\n",
    "#     print(f\"{G[i].name:>30} ({i:3}): {q:4}\")\n",
    "    \n",
    "# #G.draw(fusions=True,filepath='graph',quant_labels=True,nodes=G.nodes())\n",
    "# G.qshow()\n"
   ]
  },
  {
   "cell_type": "code",
   "execution_count": 6,
   "id": "71bbb7bc-3fb0-4780-bb3e-d61670573319",
   "metadata": {},
   "outputs": [
    {
     "name": "stderr",
     "output_type": "stream",
     "text": [
      "/snap/core20/current/lib/x86_64-linux-gnu/libstdc++.so.6: version `GLIBCXX_3.4.29' not found (required by /lib/x86_64-linux-gnu/libproxy.so.1)\n",
      "Failed to load module: /home/francesco/snap/code/common/.cache/gio-modules/libgiolibproxy.so\n"
     ]
    }
   ],
   "source": [
    "# np.max(float_execution_0[109][0]),np.min(float_execution_0[109][0])\n",
    "# G.qsnrs(float_execution_0,quant_execution_0)[109]\n",
    "\n",
    "# fig, ax = plt.subplots()\n",
    "# ax.plot(float_execution_0[109][0].flatten())\n",
    "# ax.plot(quant_execution_0[109][0].flatten())\n",
    "# fig.show()\n",
    "\n",
    "## For Debug\n",
    "\n",
    "# G.quantization[G[109].name].cache\n",
    "# float_execution_0[109][0].shape\n",
    "\n",
    "# from nntool.api.utils import qsnr\n",
    "# G.quantization[G[109].name].in_qs[1].scale[20]=0\n",
    "# for i in range(0,48):\n",
    "#     print(i,qsnr(float_execution_0[109][0][:,:,i],quant_execution_0[109][0][:,:,i]))\n",
    "# #\n",
    "# G.quantization[G[94].name].in_qs[1].scale[13]\n",
    "# G.quantization[G[94].name].in_qs[1].scale[42]\n"
   ]
  },
  {
   "cell_type": "markdown",
   "id": "d17164f0",
   "metadata": {},
   "source": [
    "## Execute on Target"
   ]
  },
  {
   "cell_type": "code",
   "execution_count": 12,
   "id": "427a3f70",
   "metadata": {},
   "outputs": [
    {
     "name": "stdout",
     "output_type": "stream",
     "text": [
      "[array([[[ 42,  51,  46],\n",
      "        [ 36,  45,  44],\n",
      "        [ 54,  66,  66],\n",
      "        ...,\n",
      "        [ 64,  73,  68],\n",
      "        [ 75,  84,  79],\n",
      "        [104, 117, 107]],\n",
      "\n",
      "       [[ 36,  45,  42],\n",
      "        [ 36,  45,  44],\n",
      "        [ 42,  50,  52],\n",
      "        ...,\n",
      "        [ 64,  74,  66],\n",
      "        [ 83,  94,  88],\n",
      "        [ 82,  95,  86]],\n",
      "\n",
      "       [[ 33,  37,  38],\n",
      "        [ 36,  45,  44],\n",
      "        [ 42,  51,  50],\n",
      "        ...,\n",
      "        [ 75,  85,  77],\n",
      "        [ 82,  95,  88],\n",
      "        [ 82,  95,  85]],\n",
      "\n",
      "       ...,\n",
      "\n",
      "       [[ 21,  27,  23],\n",
      "        [ 17,  21,  22],\n",
      "        [ 17,  21,  22],\n",
      "        ...,\n",
      "        [142, 162, 151],\n",
      "        [194, 228, 204],\n",
      "        [225, 255, 234]],\n",
      "\n",
      "       [[ 17,  21,  20],\n",
      "        [ 21,  27,  25],\n",
      "        [ 14,  23,  18],\n",
      "        ...,\n",
      "        [ 70,  80,  81],\n",
      "        [ 74,  85,  81],\n",
      "        [146, 168, 156]],\n",
      "\n",
      "       [[ 19,  28,  27],\n",
      "        [ 19,  28,  23],\n",
      "        [ 16,  22,  18],\n",
      "        ...,\n",
      "        [110, 129, 127],\n",
      "        [ 63,  73,  75],\n",
      "        [ 60,  69,  68]]], dtype=uint8)]\n"
     ]
    }
   ],
   "source": [
    "# On the target only fully integer values - NO DEQUANTIZE\n",
    "int_execution = G.execute([francesco_1], dequantize=False, quantize=True)"
   ]
  },
  {
   "cell_type": "code",
   "execution_count": 8,
   "id": "4a44025f",
   "metadata": {},
   "outputs": [
    {
     "data": {
      "text/plain": [
       "{'ALLOCATE': 1}"
      ]
     },
     "execution_count": 8,
     "metadata": {},
     "output_type": "execute_result"
    }
   ],
   "source": [
    "# Autotiler options: make the autotiler allocate the input of the network and reuse that space after the first layer\n",
    "# more L2 for the rest of the network\n",
    "G[0].at_options.allocate = 1\n",
    "G[0].at_options"
   ]
  },
  {
   "cell_type": "code",
   "execution_count": 9,
   "id": "dfd3ad88",
   "metadata": {},
   "outputs": [
    {
     "name": "stdout",
     "output_type": "stream",
     "text": [
      "Script started, output log file is '/tmp/tmpmcqnigzx/log.txt'.\n",
      "-- [\u001b[36mCustom BSP\u001b[m] Custom BSP unused.\n",
      "-- Found Python: /home/francesco/libraries/anaconda3/envs/ml_train/bin/python3.9 (found version \"3.9.16\") found components: Interpreter \n",
      "-- [\u001b[1;36mPython\u001b[m] Interpreter found here /home/francesco/libraries/anaconda3/envs/ml_train/bin/python3.9\n",
      "-- [\u001b[1;32mKconfig\u001b[m] KCONFIG_CONFIG environnement variable has not been exported.\n",
      "-- [\u001b[1;32mKconfig\u001b[m] Using default value sdk: \"sdk.config\" and app: \"sdk.config\".\n",
      "-- [\u001b[1;36mNNTOOL\u001b[m] Using nntool in /home/francesco/works/release/gitlab_sdk/tools/nntool/scripts/nntool\n",
      "-- [\u001b[1;32mSFU\u001b[m] Using SFU in \n",
      "-- [\u001b[1;33mDT\u001b[m] Creating devicetree folder\n",
      "-- [\u001b[1;33mDT\u001b[m] Formating configuration file\n",
      "-- [\u001b[1;33mDT\u001b[m] Selected options : \u001b[36mgap9_v2_wlcsp;gap9mod_v1_0_b;gap9evk_v1_3\u001b[m\n",
      "-- [\u001b[1;33mDT\u001b[m] Compiling \u001b[36mgap9_v2_wlcsp.dts\u001b[m\n",
      "-- [\u001b[1;33mDT\u001b[m] Compiling \u001b[36mgap9mod_v1_0_b.dts\u001b[m\n",
      "-- [\u001b[1;33mDT\u001b[m] Compiling \u001b[36mgap9evk_v1_3.dts\u001b[m\n",
      "-- [\u001b[1;33mDT\u001b[m] Dumping C header file\n",
      "-- [\u001b[1;34mBoard\u001b[m] GAP Family : \u001b[36m9\u001b[m\n",
      "-- [\u001b[1;34mBoard\u001b[m] GAP Version : \u001b[36m2\u001b[m\n",
      "-- [\u001b[1;36mAutoTiler\u001b[m] Using SQ8 kernels\n",
      "-- [\u001b[1;36mAutoTiler\u001b[m] Using FP16 kernels\n",
      "-- [\u001b[1;36mAutoTiler\u001b[m] Using NE16 kernels\n",
      "-- [\u001b[1;36mAutoTiler\u001b[m] Using Default Flash\n",
      "-- [\u001b[1;36mAutoTiler\u001b[m] Using Default RAM\n",
      "-- \u001b[m[\u001b[1;35mCompiler\u001b[m] Using ccache\n",
      "-- \u001b[m[\u001b[1;35mCompiler\u001b[m] Compiling for FreeRTOS on riscv32 using compiler found at /usr/lib/gap_riscv_toolchain/bin/riscv32-unknown-elf-gcc\n",
      "-- [\u001b[1;36mAutoTiler\u001b[m] Generators Used: /home/francesco/works/release/gitlab_sdk/tools/autotiler_v3/CNN_Generators/CNN_Generator_Util.c;/home/francesco/works/release/gitlab_sdk/tools/autotiler_v3/CNN_Generators/CNN_Copy_Generators.c;/home/francesco/works/release/gitlab_sdk/tools/autotiler_v3/CNN_Generators/SSD_Generators.c;/home/francesco/works/release/gitlab_sdk/tools/autotiler_v3/ISP_Generators/ResizeGenerator.c;/home/francesco/works/release/gitlab_sdk/tools/autotiler_v3/ISP_Generators/ISP_Generators.c;/home/francesco/works/release/gitlab_sdk/tools/autotiler_v3/DSP_Generators/DSP_Generators.c;/home/francesco/works/release/gitlab_sdk/tools/autotiler_v3/CNN_Generators_SQ8/CNN_Generators_SQ8.c;/home/francesco/works/release/gitlab_sdk/tools/autotiler_v3/CNN_Generators_SQ8/RNN_Generators_SQ8.c;/home/francesco/works/release/gitlab_sdk/tools/autotiler_v3/CNN_Generators_fp16/CNN_Generators_fp16.c;/home/francesco/works/release/gitlab_sdk/tools/autotiler_v3/CNN_Generators_fp16/RNN_Generators_fp16.c;/home/francesco/works/release/gitlab_sdk/tools/autotiler_v3/CNN_Generators_fp16/SSD_Generators_fp16.c;/home/francesco/works/release/gitlab_sdk/tools/autotiler_v3/CNN_Generators_NE16/CNN_Generators_NE16.c;/home/francesco/works/release/gitlab_sdk/tools/autotiler_v3/CNN_Generators_NE16/RNN_Generators_NE16.c\n",
      "-- [\u001b[1;36mAutoTiler\u001b[m] Model build directory is /home/francesco/works/release/gitlab_sdk/nn_menu/starters/face_reid/model/test_run/build/BUILD_MODEL\n",
      "-- [\u001b[1;36mAutoTiler\u001b[m] adding rule to target common_builddir_target\n",
      "-- [\u001b[1;36mAutoTiler\u001b[m] Model:   /home/francesco/works/release/gitlab_sdk/nn_menu/starters/face_reid/model/test_run/./model.c\n",
      "-- [\u001b[1;36mAutoTiler\u001b[m] Tensors: /home/francesco/works/release/gitlab_sdk/nn_menu/starters/face_reid/model/test_run/./tensors\n",
      "-- \u001b[m[\u001b[1;32mGAPY\u001b[m] ReadFS Using Default Flash\n",
      "-- [\u001b[1;36mAutoTiler\u001b[m] Using constant file /home/francesco/works/release/gitlab_sdk/nn_menu/starters/face_reid/model/test_run/build/BUILD_MODEL/shufflenet_L3_Flash_Const.dat\n",
      "-- [\u001b[1;32mReadFS\u001b[m] PARTITION not defined, using default value \"readfs_flash\"\n",
      "-- [\u001b[1;32mReadFS\u001b[m] VOLUME not defined, using default value \"app\"\n",
      "-- [\u001b[1;32mReadFS\u001b[m] Adding file /home/francesco/works/release/gitlab_sdk/nn_menu/starters/face_reid/model/test_run/build/BUILD_MODEL/shufflenet_L3_Flash_Const.dat to partition \"readfs_flash\"\n",
      "-- [\u001b[1;36mAutoTiler\u001b[m] Master Stack 4096 Slave Stack 1024\n",
      "-- [\u001b[1;36mAutoTiler\u001b[m] Num PE 8+1 Avail L1 128000\n",
      "-- [\u001b[1;36mAutoTiler\u001b[m] Model L1 Memory set to 115712.\n",
      "-- [\u001b[1;36mAutoTiler\u001b[m] Model Gen Includes: -I/home/francesco/works/release/gitlab_sdk/tools/autotiler_v3/Autotiler;-I/home/francesco/works/release/gitlab_sdk/tools/autotiler_v3/Emulation;-I/home/francesco/works/release/gitlab_sdk/tools/autotiler_v3/CNN_Generators;-I/home/francesco/works/release/gitlab_sdk/tools/autotiler_v3/ISP_Generators;-I/home/francesco/works/release/gitlab_sdk/tools/autotiler_v3/ISP_Generators;-I/home/francesco/works/release/gitlab_sdk/tools/autotiler_v3/CNN_Libraries;-I/home/francesco/works/release/gitlab_sdk/tools/autotiler_v3/CNN_Libraries_fp16;-I/home/francesco/works/release/gitlab_sdk/tools/autotiler_v3/DSP_Generators;-I/home/francesco/works/release/gitlab_sdk/tools/autotiler_v3/CNN_Generators_SQ8;-I/home/francesco/works/release/gitlab_sdk/tools/autotiler_v3/CNN_Generators_fp16;-I/home/francesco/works/release/gitlab_sdk/tools/autotiler_v3/CNN_Generators_NE16;-I/home/francesco/works/release/gitlab_sdk/libs/include;-I/home/francesco/works/release/gitlab_sdk/tools/autotiler_v3/ISP_Libraries;-I/home/francesco/works/release/gitlab_sdk/tools/autotiler_v3/ISP_Libraries;-I/home/francesco/works/release/gitlab_sdk/tools/autotiler_v3/CNN_Libraries;-I/home/francesco/works/release/gitlab_sdk/tools/autotiler_v3/DSP_Libraries;-I/home/francesco/works/release/gitlab_sdk/tools/autotiler_v3/CNN_Libraries_fp16;-I/home/francesco/works/release/gitlab_sdk/tools/autotiler_v3/CNN_Libraries_SQ8;-I/home/francesco/works/release/gitlab_sdk/tools/autotiler_v3/CNN_Libraries_fp16;-I/home/francesco/works/release/gitlab_sdk/tools/autotiler_v3/CNN_Libraries_NE16\n",
      "-- [\u001b[1;36mAutoTiler\u001b[m] Using BFloat16 NN float kernels\n",
      "-- [\u001b[1;36mAutoTiler\u001b[m] Using BFloat16 DSP float kernels\n",
      "-- Clock speeds - Cluster 370 FC 370 Peripheral 370\n",
      "-- The C compiler identification is GNU 7.1.1\n",
      "-- The ASM compiler identification is GNU\n",
      "-- Found assembler: /usr/lib/gap_riscv_toolchain/bin/riscv32-unknown-elf-gcc\n",
      "-- [\u001b[1;32mFreeRTOS\u001b[m] CMAKE_CURRENT_BINARY_DIR/home/francesco/works/release/gitlab_sdk/nn_menu/starters/face_reid/model/test_run/build/freertos\n",
      "-- \u001b[m[\u001b[1;32mGAPY\u001b[m] Using gapy v2\n",
      "-- \u001b[m[\u001b[1;32mGAPY\u001b[m] Platform set to board.\n",
      "-- \u001b[m[\u001b[1;32mGAPY\u001b[m] GAPY target command is : --target=gap9.evk\n",
      "-- Preparing vscode scripts for/home/francesco/works/release/gitlab_sdk/nn_menu/starters/face_reid/model/test_run/build/shufflenet\n",
      "-- \u001b[m[\u001b[1;35mABB\u001b[m] GAPY_OPENOCD_SCRIPT: gap9revb.tcl\n",
      "-- \u001b[m[\u001b[1;35mGDB\u001b[m] OFF\n",
      "-- Configuring done (0.6s)\n",
      "-- Generating done (0.0s)\n",
      "-- Build files have been written to: /home/francesco/works/release/gitlab_sdk/nn_menu/starters/face_reid/model/test_run/build\n",
      "[  1%] \u001b[32mBuilding C object freertos/vendors/gwt/libs/printf/CMakeFiles/freertos_printf.dir/printf.c.obj\u001b[0m\n",
      "[  1%] \u001b[32m\u001b[1mLinking C static library libfreertos_printf.a\u001b[0m\n",
      "[  1%] Built target freertos_printf\n",
      "[  1%] \u001b[32mBuilding C object freertos/pmsis/bsp/CMakeFiles/bsp.dir/bsp/bsp.c.obj\u001b[0m\n",
      "[  2%] \u001b[32mBuilding C object freertos/pmsis/bsp/CMakeFiles/bsp.dir/bsp/boards/bsp_gap9mod_v1_0_b.c.obj\u001b[0m\n",
      "[  3%] \u001b[32mBuilding C object freertos/pmsis/bsp/CMakeFiles/bsp.dir/bsp/boards/bsp_gap9evk_v1_3.c.obj\u001b[0m\n",
      "[  3%] \u001b[32mBuilding C object freertos/pmsis/bsp/CMakeFiles/bsp.dir/flash/flash.c.obj\u001b[0m\n",
      "[  4%] \u001b[32mBuilding C object freertos/pmsis/bsp/CMakeFiles/bsp.dir/flash/mram/mram-v2.c.obj\u001b[0m\n",
      "[  5%] \u001b[32mBuilding C object freertos/pmsis/bsp/CMakeFiles/bsp.dir/flash/spiflash/mx25u51245g.c.obj\u001b[0m\n",
      "[  6%] \u001b[32mBuilding C object freertos/pmsis/bsp/CMakeFiles/bsp.dir/fs/fs.c.obj\u001b[0m\n",
      "[  7%] \u001b[32mBuilding C object freertos/pmsis/bsp/CMakeFiles/bsp.dir/fs/read_fs/read_fs.c.obj\u001b[0m\n",
      "[  7%] \u001b[32mBuilding C object freertos/pmsis/bsp/CMakeFiles/bsp.dir/fs/host_fs/host_fs.c.obj\u001b[0m\n",
      "[  8%] \u001b[32mBuilding C object freertos/pmsis/bsp/CMakeFiles/bsp.dir/crc/crc32.c.obj\u001b[0m\n",
      "[  8%] \u001b[32mBuilding C object freertos/pmsis/bsp/CMakeFiles/bsp.dir/partition/flash_partition_v2.c.obj\u001b[0m\n",
      "[ 10%] \u001b[32mBuilding C object freertos/pmsis/bsp/CMakeFiles/bsp.dir/partition/secret_storage.c.obj\u001b[0m\n",
      "[ 11%] \u001b[32mBuilding C object freertos/pmsis/bsp/CMakeFiles/bsp.dir/ram/alloc_extern.c.obj\u001b[0m\n",
      "[ 12%] \u001b[32mBuilding C object freertos/pmsis/bsp/CMakeFiles/bsp.dir/ram/ram.c.obj\u001b[0m\n",
      "[ 12%] \u001b[32mBuilding C object freertos/pmsis/bsp/CMakeFiles/bsp.dir/ram/spiram/aps256xxn.c.obj\u001b[0m\n",
      "[ 13%] \u001b[32mBuilding C object freertos/pmsis/bsp/CMakeFiles/bsp.dir/bsp/powersupply/powersupplygpio.c.obj\u001b[0m\n",
      "[ 14%] \u001b[32mBuilding C object freertos/pmsis/bsp/CMakeFiles/bsp.dir/bsp/powersupply/powersupply.c.obj\u001b[0m\n",
      "[ 14%] \u001b[32m\u001b[1mLinking C static library libbsp.a\u001b[0m\n",
      "[ 14%] Built target bsp\n",
      "[ 14%] \u001b[32mBuilding C object freertos/pmsis/implem/CMakeFiles/pmsis_implem.dir/chips/gap9/maestro/driver/maestro.c.obj\u001b[0m\n",
      "[ 15%] \u001b[32mBuilding C object freertos/pmsis/implem/CMakeFiles/pmsis_implem.dir/chips/gap9/maestro/driver/maestro_irq.c.obj\u001b[0m\n",
      "[ 16%] \u001b[32mBuilding ASM object freertos/pmsis/implem/CMakeFiles/pmsis_implem.dir/chips/gap9/gpio/driver/gpio_asm.S.obj\u001b[0m\n",
      "[ 17%] \u001b[32mBuilding C object freertos/pmsis/implem/CMakeFiles/pmsis_implem.dir/chips/gap9/gpio/driver/gpio.c.obj\u001b[0m\n",
      "[ 17%] \u001b[32mBuilding C object freertos/pmsis/implem/CMakeFiles/pmsis_implem.dir/chips/gap9/fll/driver/fll.c.obj\u001b[0m\n",
      "[ 18%] \u001b[32mBuilding ASM object freertos/pmsis/implem/CMakeFiles/pmsis_implem.dir/chips/gap9/cluster/driver/cluster-cc.S.obj\u001b[0m\n",
      "[ 20%] \u001b[32mBuilding C object freertos/pmsis/implem/CMakeFiles/pmsis_implem.dir/chips/gap9/cluster/driver/cluster.c.obj\u001b[0m\n",
      "[ 20%] \u001b[32mBuilding ASM object freertos/pmsis/implem/CMakeFiles/pmsis_implem.dir/chips/gap9/cluster/driver/cluster-pe-team.S.obj\u001b[0m\n",
      "[ 22%] \u001b[32mBuilding ASM object freertos/pmsis/implem/CMakeFiles/pmsis_implem.dir/chips/gap9/cluster/driver/cluster-pe-workgroup.S.obj\u001b[0m\n",
      "[ 22%] \u001b[32mBuilding C object freertos/pmsis/implem/CMakeFiles/pmsis_implem.dir/chips/gap9/udma_core/driver/udma_core.c.obj\u001b[0m\n",
      "[ 23%] \u001b[32mBuilding C object freertos/pmsis/implem/CMakeFiles/pmsis_implem.dir/chips/gap9/pad/driver/pad.c.obj\u001b[0m\n",
      "[ 23%] \u001b[32mBuilding C object freertos/pmsis/implem/CMakeFiles/pmsis_implem.dir/chips/gap9/fc_event/driver/fc_event.c.obj\u001b[0m\n",
      "[ 24%] \u001b[32mBuilding C object freertos/pmsis/implem/CMakeFiles/pmsis_implem.dir/malloc/alloc_pool.c.obj\u001b[0m\n",
      "[ 25%] \u001b[32mBuilding C object freertos/pmsis/implem/CMakeFiles/pmsis_implem.dir/malloc/pi_malloc.c.obj\u001b[0m\n",
      "[ 25%] \u001b[32mBuilding C object freertos/pmsis/implem/CMakeFiles/pmsis_implem.dir/malloc/alloc.c.obj\u001b[0m\n",
      "[ 26%] \u001b[32mBuilding ASM object freertos/pmsis/implem/CMakeFiles/pmsis_implem.dir/chips/gap9/timer/driver/timer_asm.S.obj\u001b[0m\n",
      "[ 27%] \u001b[32mBuilding ASM object freertos/pmsis/implem/CMakeFiles/pmsis_implem.dir/utils/asm_util.S.obj\u001b[0m\n",
      "[ 28%] \u001b[32mBuilding C object freertos/pmsis/implem/CMakeFiles/pmsis_implem.dir/utils/ctors_dtors.c.obj\u001b[0m\n",
      "[ 28%] \u001b[32mBuilding C object freertos/pmsis/implem/CMakeFiles/pmsis_implem.dir/chips/gap9/timer/driver/timer.c.obj\u001b[0m\n",
      "[ 30%] \u001b[32mBuilding C object freertos/pmsis/implem/CMakeFiles/pmsis_implem.dir/chips/gap9/udma_octospi/driver/octospi.c.obj\u001b[0m\n",
      "[ 31%] \u001b[32mBuilding C object freertos/pmsis/implem/CMakeFiles/pmsis_implem.dir/chips/gap9/udma_octospi/driver/octospi_internal.c.obj\u001b[0m\n",
      "[ 31%] \u001b[32mBuilding ASM object freertos/pmsis/implem/CMakeFiles/pmsis_implem.dir/chips/gap9/udma_octospi/driver/octospi_asm.S.obj\u001b[0m\n",
      "[ 32%] \u001b[32mBuilding C object freertos/pmsis/implem/CMakeFiles/pmsis_implem.dir/chips/gap9/udma_aes/driver/aes.c.obj\u001b[0m\n",
      "[ 33%] \u001b[32mBuilding C object freertos/pmsis/implem/CMakeFiles/pmsis_implem.dir/chips/gap9/udma_aes/driver/aes_internal.c.obj\u001b[0m\n",
      "[ 33%] \u001b[32mBuilding C object freertos/pmsis/implem/CMakeFiles/pmsis_implem.dir/chips/gap9/udma_aes_dual_core/driver/aes_dual_core_internal.c.obj\u001b[0m\n",
      "[ 34%] \u001b[32mBuilding C object freertos/pmsis/implem/CMakeFiles/pmsis_implem.dir/chips/gap9/quiddikey/driver/quiddikey_internal.c.obj\u001b[0m\n"
     ]
    },
    {
     "ename": "KeyboardInterrupt",
     "evalue": "",
     "output_type": "error",
     "traceback": [
      "\u001b[0;31m---------------------------------------------------------------------------\u001b[0m",
      "\u001b[0;31mKeyboardInterrupt\u001b[0m                         Traceback (most recent call last)",
      "Cell \u001b[0;32mIn[9], line 1\u001b[0m\n\u001b[0;32m----> 1\u001b[0m res \u001b[39m=\u001b[39m G\u001b[39m.\u001b[39;49mexecute_on_target(\n\u001b[1;32m      2\u001b[0m     pmsis_os\u001b[39m=\u001b[39;49m\u001b[39m'\u001b[39;49m\u001b[39mfreertos\u001b[39;49m\u001b[39m'\u001b[39;49m,\n\u001b[1;32m      3\u001b[0m     platform\u001b[39m=\u001b[39;49m\u001b[39m\"\u001b[39;49m\u001b[39mboard\u001b[39;49m\u001b[39m\"\u001b[39;49m,\n\u001b[1;32m      4\u001b[0m     directory\u001b[39m=\u001b[39;49m\u001b[39m\"\u001b[39;49m\u001b[39mtest_run\u001b[39;49m\u001b[39m\"\u001b[39;49m,\n\u001b[1;32m      5\u001b[0m     input_tensors\u001b[39m=\u001b[39;49mint_execution[\u001b[39m0\u001b[39;49m],\n\u001b[1;32m      6\u001b[0m     output_tensors\u001b[39m=\u001b[39;49m\u001b[39m0\u001b[39;49m,\n\u001b[1;32m      7\u001b[0m     write_out_to_file\u001b[39m=\u001b[39;49m\u001b[39mTrue\u001b[39;49;00m,\n\u001b[1;32m      8\u001b[0m     at_log\u001b[39m=\u001b[39;49m\u001b[39mTrue\u001b[39;49;00m,\n\u001b[1;32m      9\u001b[0m     dont_run\u001b[39m=\u001b[39;49m\u001b[39mFalse\u001b[39;49;00m,\n\u001b[1;32m     10\u001b[0m     settings\u001b[39m=\u001b[39;49mmodel_settings(l1_size\u001b[39m=\u001b[39;49m\u001b[39m128000\u001b[39;49m,l2_size\u001b[39m=\u001b[39;49m\u001b[39m512000\u001b[39;49m,tensor_directory\u001b[39m=\u001b[39;49m\u001b[39m\"\u001b[39;49m\u001b[39m./tensors\u001b[39;49m\u001b[39m\"\u001b[39;49m),\n\u001b[1;32m     11\u001b[0m     cmake\u001b[39m=\u001b[39;49m\u001b[39mTrue\u001b[39;49;00m,\n\u001b[1;32m     12\u001b[0m     at_loglevel\u001b[39m=\u001b[39;49m\u001b[39m1\u001b[39;49m,\n\u001b[1;32m     13\u001b[0m     print_output\u001b[39m=\u001b[39;49m\u001b[39mTrue\u001b[39;49;00m\n\u001b[1;32m     14\u001b[0m )\n\u001b[1;32m     15\u001b[0m \u001b[39mfor\u001b[39;00m l \u001b[39min\u001b[39;00m res\u001b[39m.\u001b[39mat_log[\u001b[39m-\u001b[39m\u001b[39m29\u001b[39m:\u001b[39m-\u001b[39m\u001b[39m1\u001b[39m]:\n\u001b[1;32m     16\u001b[0m     \u001b[39mprint\u001b[39m(l)\n",
      "File \u001b[0;32m~/works/release/gitlab_sdk/tools/nntool/nntool/graph/nngraph.py:1864\u001b[0m, in \u001b[0;36mNNGraph.execute_on_target\u001b[0;34m(self, input_tensors, directory, settings, script, output_tensors, output_kernels, memory, performance, dont_run, at_log, jobs, profile, at_loglevel, print_output, pmsis_os, source, platform, do_clean, cmake, write_out_to_file, check_on_target, tolerance, verbose, gpio_meas, runner_args)\u001b[0m\n\u001b[1;32m   1862\u001b[0m     logfile \u001b[39m=\u001b[39m \u001b[39mNone\u001b[39;00m\n\u001b[1;32m   1863\u001b[0m     proc_args \u001b[39m=\u001b[39m [bash, os\u001b[39m.\u001b[39mpath\u001b[39m.\u001b[39mjoin(directory, \u001b[39m'\u001b[39m\u001b[39mrun_make.sh\u001b[39m\u001b[39m'\u001b[39m)]\n\u001b[0;32m-> 1864\u001b[0m retcode, output, error \u001b[39m=\u001b[39m run_process(proc_args, directory, print_output)\n\u001b[1;32m   1865\u001b[0m \u001b[39mif\u001b[39;00m logfile:\n\u001b[1;32m   1866\u001b[0m     \u001b[39mwith\u001b[39;00m \u001b[39mopen\u001b[39m(os\u001b[39m.\u001b[39mpath\u001b[39m.\u001b[39mjoin(tempdir, logfile)) \u001b[39mas\u001b[39;00m filep:\n",
      "File \u001b[0;32m~/works/release/gitlab_sdk/tools/nntool/nntool/graph/nngraph.py:123\u001b[0m, in \u001b[0;36mrun_process\u001b[0;34m(proc_args, directory, print_output)\u001b[0m\n\u001b[1;32m    121\u001b[0m retcode \u001b[39m=\u001b[39m process\u001b[39m.\u001b[39mpoll()\n\u001b[1;32m    122\u001b[0m \u001b[39mif\u001b[39;00m process\u001b[39m.\u001b[39mstdout \u001b[39mand\u001b[39;00m process\u001b[39m.\u001b[39mstderr:\n\u001b[0;32m--> 123\u001b[0m     readable, _, _ \u001b[39m=\u001b[39m select(\n\u001b[1;32m    124\u001b[0m         [process\u001b[39m.\u001b[39;49mstdout, process\u001b[39m.\u001b[39;49mstderr], [], [], \u001b[39m500\u001b[39;49m)\n\u001b[1;32m    125\u001b[0m     \u001b[39mfor\u001b[39;00m stream, buffer \u001b[39min\u001b[39;00m [(process\u001b[39m.\u001b[39mstdout, output), (process\u001b[39m.\u001b[39mstderr, error)]:\n\u001b[1;32m    126\u001b[0m         \u001b[39mif\u001b[39;00m stream \u001b[39min\u001b[39;00m readable:\n",
      "\u001b[0;31mKeyboardInterrupt\u001b[0m: "
     ]
    }
   ],
   "source": [
    "res = G.execute_on_target(\n",
    "    pmsis_os='freertos',\n",
    "    platform=\"board\",\n",
    "    directory=\"test_run\",\n",
    "    input_tensors=int_execution[0],\n",
    "    output_tensors=0,\n",
    "    write_out_to_file=True,\n",
    "    at_log=True,\n",
    "    dont_run=False,\n",
    "    settings=model_settings(l1_size=128000,l2_size=512000,tensor_directory=\"./tensors\"),\n",
    "    cmake=True,\n",
    "    at_loglevel=1,\n",
    "    print_output=True\n",
    ")\n",
    "for l in res.at_log[-29:-1]:\n",
    "    print(l)\n",
    "\n",
    "# res = G.gen_at_model(\n",
    "#     settings=model_settings(l1_size=128000,l2_size=512000,tensor_directory=\"./tensors\"),\n",
    "#     directory=\"test_model\",\n",
    "#     at_loglevel=1\n",
    "# )\n",
    "\n",
    "\n"
   ]
  },
  {
   "cell_type": "code",
   "execution_count": null,
   "id": "8e8fe38c",
   "metadata": {},
   "outputs": [
    {
     "name": "stdout",
     "output_type": "stream",
     "text": [
      "Out Name, QSNR NNTool vs Target run\n",
      "output_1, (27,)\n",
      "[-0,275391 0,042969 -0,089844 0,052734 -0,312500 0,166992 -0,255859\n",
      " 0,523438 -0,421875 0,128906 -0,035156 0,175781 0,119141 0,160156 0,265625\n",
      " -0,184570 0,053711 -0,371094 -0,460938 -0,267578 0,554688 0,402344\n",
      " -0,005859 0,207031 0,007812 -0,156250 -0,550781 -0,632812 -0,100586\n",
      " -0,144531 -0,011719 -0,269531 0,546875 0,117188 0,328125 -0,013672\n",
      " -0,523438 0,273438 0,601562 -0,085938 0,337891 -0,021484 -0,410156\n",
      " 0,425781 0,077148 -0,562500 -0,195312 0,453125 0,001953 -0,300781\n",
      " -0,162109 -0,240234 -0,082031 0,240234 -0,207031 -0,289062 -0,070312\n",
      " 0,302734 0,339844 0,056641 0,531250 -0,257812 -0,539062 -0,519531\n",
      " 0,117188 0,226562 -0,925781 -0,003906 0,937500 -0,220703 0,027344\n",
      " 0,277344 -0,531250 -0,511719 -0,337891 -0,320312 0,339844 -0,127930\n",
      " -0,136719 0,384766 0,060547 -0,130859 0,085938 0,185547 -0,423828\n",
      " -0,143555 -0,029297 -0,146484 0,542969 -0,386719 -0,353516 0,105469\n",
      " 0,384766 -0,613281 -0,050781 0,062500 0,250000 0,232422 0,244141 0,205078\n",
      " 0,036133 0,222656 0,265625 0,034668 -0,332031 -0,292969 -0,052734\n",
      " 0,109375 0,359375 -0,345703 0,089844 -0,347656 0,582031 -0,041016\n",
      " -0,332031 -0,269531 -0,213867 0,014648 -0,094727 0,060547 0,353516\n",
      " 0,206055 -0,316406 -0,042969 0,013184 -0,027222 -0,230469 0,308594]\n",
      "[-0,289062 0,028320 -0,066406 0,058594 -0,326172 0,167969 -0,242188\n",
      " 0,531250 -0,433594 0,113281 -0,028320 0,179688 0,136719 0,167969 0,265625\n",
      " -0,163086 0,063477 -0,367188 -0,468750 -0,269531 0,562500 0,390625\n",
      " 0,021484 0,210938 -0,001953 -0,150391 -0,546875 -0,648438 -0,086914\n",
      " -0,136719 -0,021484 -0,269531 0,542969 0,107422 0,328125 -0,017578\n",
      " -0,523438 0,265625 0,578125 -0,078125 0,312500 -0,043945 -0,410156\n",
      " 0,417969 0,084961 -0,546875 -0,195312 0,453125 -0,016602 -0,304688\n",
      " -0,171875 -0,216797 -0,058594 0,246094 -0,207031 -0,281250 -0,054688\n",
      " 0,291016 0,335938 0,065430 0,546875 -0,273438 -0,523438 -0,511719\n",
      " 0,101562 0,222656 -0,925781 0,000000 0,921875 -0,232422 0,050781 0,269531\n",
      " -0,546875 -0,511719 -0,328125 -0,316406 0,339844 -0,124023 -0,117188\n",
      " 0,388672 0,050781 -0,133789 0,054688 0,177734 -0,416016 -0,148438\n",
      " -0,039062 -0,142578 0,546875 -0,402344 -0,353516 0,107422 0,396484\n",
      " -0,621094 -0,035156 0,054688 0,250000 0,238281 0,250000 0,214844 0,028320\n",
      " 0,226562 0,255859 0,031982 -0,328125 -0,304688 -0,035156 0,113281\n",
      " 0,367188 -0,345703 0,085938 -0,363281 0,582031 -0,039062 -0,337891\n",
      " -0,273438 -0,237305 -0,002930 -0,116211 0,054199 0,361328 0,220703\n",
      " -0,320312 -0,035156 0,014648 -0,050781 -0,244141 0,298828]\n"
     ]
    }
   ],
   "source": [
    "print(\"Out Name, QSNR NNTool vs Target run\")\n",
    "for outn in G.output_nodes():\n",
    "    out_target = np.fromfile(f\"test_run/{outn.name.capitalize()}.bin\", G.quantization[outn.name].in_qs[0].dtype)\n",
    "    out_nntool = int_execution[G[outn.name].step_idx]\n",
    "    print(f\"{outn.name}, {G.qsnrs([out_target], [out_nntool[0].flatten()])}\")\n",
    "    print(out_nntool[0].flatten())\n",
    "    print(out_target)"
   ]
  },
  {
   "cell_type": "code",
   "execution_count": null,
   "id": "97108b56",
   "metadata": {},
   "outputs": [],
   "source": []
  }
 ],
 "metadata": {
  "kernelspec": {
   "display_name": "Python 3 (ipykernel)",
   "language": "python",
   "name": "python3"
  },
  "language_info": {
   "codemirror_mode": {
    "name": "ipython",
    "version": 3
   },
   "file_extension": ".py",
   "mimetype": "text/x-python",
   "name": "python",
   "nbconvert_exporter": "python",
   "pygments_lexer": "ipython3",
   "version": "3.9.16"
  }
 },
 "nbformat": 4,
 "nbformat_minor": 5
}
