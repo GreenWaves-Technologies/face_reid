{
 "cells": [
  {
   "cell_type": "code",
   "execution_count": null,
   "id": "8385f415-ef9c-4ad1-9dbb-0fbcc7f79f4c",
   "metadata": {},
   "outputs": [],
   "source": [
    "from nntool.api import NNGraph\n",
    "from nntool.api.utils import quantization_options, model_settings\n",
    "from nntool.api.utils import qsnr\n",
    "from nntool.quantization.qtype import QType\n",
    "import numpy as np\n",
    "import random, os\n",
    "from PIL import Image\n",
    "from scipy.spatial import distance\n",
    "from numpy.linalg import norm\n",
    "import matplotlib.pyplot as plt\n",
    "import matplotlib.patches as patches\n",
    "%matplotlib widget\n",
    "import logging\n",
    "logging.basicConfig(level=logging.ERROR)"
   ]
  },
  {
   "cell_type": "markdown",
   "id": "0c361208",
   "metadata": {},
   "source": [
    "## Load Net and Print Stats"
   ]
  },
  {
   "cell_type": "code",
   "execution_count": null,
   "id": "49cb311c-c35a-45d4-a6ad-b664c1581109",
   "metadata": {},
   "outputs": [],
   "source": [
    "G = NNGraph.load_graph(\"shufflenet.onnx\", load_quantization=False)\n",
    "max_activ_size, total_params = G.total_memory_usage\n",
    "ops = G.total_ops\n",
    "#G.draw(filepath=\"draw\", view=True)\n",
    "\n",
    "print(f\"{G.name}:\")\n",
    "print(f\"\\tMax Active Size:\\t{max_activ_size} elements\")\n",
    "print(f\"\\tTotal # Parameters:\\t{total_params} elements\")\n",
    "print(f\"\\tTotal # Operations:\\t{ops / 1e6:.2f} MOps\")"
   ]
  },
  {
   "cell_type": "code",
   "execution_count": null,
   "id": "14421a62-8a2d-4b92-a504-eb3e58c18f01",
   "metadata": {},
   "outputs": [],
   "source": [
    "G.adjust_order()\n",
    "G.fusions('scaled_match_group')\n",
    "G.fusions('expression_matcher')"
   ]
  },
  {
   "cell_type": "markdown",
   "id": "bc200ad2",
   "metadata": {},
   "source": [
    "## Quantize Net"
   ]
  },
  {
   "cell_type": "code",
   "execution_count": null,
   "id": "77cc8721-e286-4aa0-aec0-7df19667a6c2",
   "metadata": {},
   "outputs": [],
   "source": [
    "from tqdm import tqdm\n",
    "\n",
    "folder_in = \"../quant_dataset\"\n",
    "\n",
    "CALIBRATION_IMGS = []\n",
    "\n",
    "#init seed to be reproducible choices\n",
    "random.seed(10)\n",
    "\n",
    "for root, dirs, files in os.walk(folder_in):\n",
    "    for file in files:\n",
    "        CALIBRATION_IMGS.append(os.path.join(root, file))\n",
    "\n",
    "def representative_dataset():\n",
    "    #for image in tqdm(random.choices(CALIBRATION_IMGS, k=100)):\n",
    "    for image in tqdm(CALIBRATION_IMGS):\n",
    "        img = (np.array(Image.open(image)).astype(np.float32))\n",
    "        img = img / 256\n",
    "        img = img.transpose(2, 0, 1)\n",
    "        #img=img.reshape(3,112,112)\n",
    "        yield img\n",
    "\n",
    "\n",
    "float_nodes=['_gdc_gdc_0_Conv_fusion_qin0','_gdc_gdc_0_Conv_fusion','_linearconv_Conv_qin0','_linearconv_Conv','_linearconv_Conv_reshape','_Reshape_2','output_1' ]\n",
    "\n",
    "stats = G.collect_statistics(representative_dataset())\n",
    "\n",
    "nodeqdict={\n",
    "        n:quantization_options(scheme=\"FLOAT\",float_type=\"bfloat16\") \n",
    "            for n in float_nodes\n",
    "    }\n",
    "\n",
    "#nodeqdict.update({'input_1':quantization_options(bits=8,use_ne16=True,hwc=True,force_input_size=8,force_output_size=16)})\n",
    "\n",
    "G.quantize(\n",
    "    statistics=stats,\n",
    "    graph_options=quantization_options(bits=8,use_ne16=True,hwc=True),\n",
    "    # Select specific nodes and move to different quantization Scheme - TOTAL FLEXIBILITY\n",
    "    node_options=nodeqdict\n",
    ")\n",
    "\n",
    "# G.quantize(\n",
    "#     statistics=stats,\n",
    "#     graph_options={\n",
    "#         \"scheme\": \"FLOAT\",\n",
    "#         \"float_type\": \"float16\"\n",
    "#     })"
   ]
  },
  {
   "cell_type": "markdown",
   "id": "71199335",
   "metadata": {},
   "source": [
    "## Eval Quantization"
   ]
  },
  {
   "cell_type": "code",
   "execution_count": null,
   "id": "c7a742ae-c683-4590-8186-e24b3a873c36",
   "metadata": {},
   "outputs": [],
   "source": [
    "francesco_1 = np.array(Image.open(\"../cropped_faces/francesco_1.png_face_crop.ppm\"))\n",
    "francesco_1 = (francesco_1.astype(np.float32)) / 256\n",
    "#The NN is set as HWC so no need for transpose\n",
    "#francesco_1 = francesco_1.transpose(2, 0, 1)\n",
    "\n",
    "francesco_2 = np.array(Image.open(\"../cropped_faces/francesco_2.png_face_crop.ppm\"))\n",
    "francesco_2 = (francesco_1.astype(np.float32)) / 256\n",
    "#francesco_2 = francesco_2.transpose(2, 0, 1)\n",
    "\n",
    "float_execution_0 = G.execute([francesco_1], quantize=False)\n",
    "quant_execution_0 = G.execute([francesco_1], quantize=True, dequantize=True)\n",
    "\n",
    "float_execution_1 = G.execute([francesco_2], quantize=False)\n",
    "quant_execution_1 = G.execute([francesco_2], quantize=True, dequantize=True)\n",
    "\n",
    "def cos_sim(a,b):\n",
    "    return round(1 - (np.dot(a, b)/(norm(a)*norm(b))),4)\n",
    "\n",
    "print(\"Cos distance --> Francesco_0 float , Francesco_0 quant\")\n",
    "print(cos_sim(np.array(float_execution_0[-1]).reshape(128),np.array(quant_execution_0[-1]).reshape(128)))\n",
    "\n",
    "print(\"Cos distance --> Francesco_0 float , Francesco_1 float\")\n",
    "print(cos_sim(np.array(float_execution_0[-1]).reshape(128),np.array(float_execution_1[-1]).reshape(128)))\n",
    "print(\"Cos distance --> Francesco_0 quant , Francesco_1 quant\")\n",
    "print(cos_sim(np.array(quant_execution_0[-1]).reshape(128),np.array(quant_execution_1[-1]).reshape(128)))\n",
    "\n",
    "print(float_execution_0[-1])\n",
    "print(quant_execution_0[-1])\n",
    "\n",
    "#TO print out each layer SNR Float vs Quantized\n",
    "from nntool.graph.types import ConstantInputNode\n",
    "qsnrs_by_layer = G.qsnrs(float_execution_0, quant_execution_0)\n",
    "print(\"QSNR layer by layer (skipping constant layers like weights and biases):\")\n",
    "print(f\"{'Layer Name':>30} (  #): {'QSNR':4}\")\n",
    "for i, q in enumerate(qsnrs_by_layer):\n",
    "    if isinstance(G[i], ConstantInputNode):\n",
    "        continue\n",
    "    #print(f\"{G[i].name[0:20]:>30} ({i:3}): {q:4}\")\n",
    "    print(f\"{G[i].name:>30} ({i:3}): {q:4}\")\n",
    "  \n",
    "    \n",
    "G.draw(fusions=True,filepath='graph',quant_labels=True,nodes=G.nodes())\n",
    "# G.qshow()\n"
   ]
  },
  {
   "cell_type": "code",
   "execution_count": null,
   "id": "71bbb7bc-3fb0-4780-bb3e-d61670573319",
   "metadata": {},
   "outputs": [],
   "source": [
    "# np.max(float_execution_0[118][0]),np.min(float_execution_0[118][0])\n",
    "# G.qsnrs(float_execution_0,quant_execution_0)[118]\n",
    "\n",
    "# fig, ax = plt.subplots()\n",
    "# ax.plot(float_execution_0[118][0].flatten())\n",
    "# ax.plot(quant_execution_0[118][0].flatten())\n",
    "# fig.show()\n",
    "\n",
    "## For Debug\n",
    "\n",
    "# G.quantization[G[118].name].cache\n",
    "# float_execution_0[118][0].shape\n",
    "\n",
    "# print(i,qsnr(float_execution_0[118][0],quant_execution_0[118][0]))\n",
    "\n",
    "# print(float_execution_0[118][0],quant_execution_0[118][0])\n",
    "\n",
    "# print(G.quantization[G[118].name].in_qs[1].scale)\n",
    "# #print(G.quantization[G[118].name].cache)\n",
    "# G.indexed_in_edges(G[118])\n",
    "\n",
    "\n",
    "# QType.from_array_sq(G[\"_stage3_stage3_3_branch2_branch2_3_Conv_weights\"].value,dtype=np.uint8,quantized_dimension=0).scale\n",
    "\n",
    "# np.save(\"Overflow.npy\",G[\"_stage3_stage3_3_branch2_branch2_3_Conv_weights\"].value)\n",
    "\n",
    "# G.quantization[G[118].name].in_qs[1].scale[20]=0\n",
    "# for i in range(0,48):\n",
    "#     print(i,qsnr(float_execution_0[118][0][:,:,i],quant_execution_0[118][0][:,:,i]))\n",
    "# #\n",
    "# G.quantization[G[94].name].in_qs[1].scale[13]\n",
    "# G.quantization[G[94].name].in_qs[1].scale[42]\n"
   ]
  },
  {
   "cell_type": "markdown",
   "id": "a2a22285",
   "metadata": {},
   "source": []
  },
  {
   "cell_type": "markdown",
   "id": "d17164f0",
   "metadata": {},
   "source": [
    "## Execute on Target"
   ]
  },
  {
   "cell_type": "code",
   "execution_count": null,
   "id": "427a3f70",
   "metadata": {},
   "outputs": [],
   "source": [
    "# On the target only fully integer values - NO DEQUANTIZE\n",
    "int_execution = G.execute([francesco_1], dequantize=False, quantize=True)"
   ]
  },
  {
   "cell_type": "code",
   "execution_count": null,
   "id": "4a44025f",
   "metadata": {},
   "outputs": [],
   "source": [
    "# Autotiler options: make the autotiler allocate the input of the network and reuse that space after the first layer\n",
    "# more L2 for the rest of the network\n",
    "G[0].at_options.allocate = 1\n",
    "G[0].at_options\n"
   ]
  },
  {
   "cell_type": "code",
   "execution_count": null,
   "id": "dfd3ad88",
   "metadata": {},
   "outputs": [],
   "source": [
    "res = G.execute_on_target(\n",
    "    pmsis_os='freertos',\n",
    "    platform=\"board\",\n",
    "    directory=\"test_run\",\n",
    "    input_tensors=int_execution[0],\n",
    "    output_tensors=0,\n",
    "    write_out_to_file=True,\n",
    "    at_log=True,\n",
    "    dont_run=False,\n",
    "    settings=model_settings(l1_size=128000,l2_size=512000,tensor_directory=\"./tensors\"),\n",
    "    cmake=True,\n",
    "    at_loglevel=1,\n",
    "    print_output=True\n",
    ")\n",
    "for l in res.at_log[-29:-1]:\n",
    "    print(l)\n",
    "\n",
    "# res = G.gen_at_model(\n",
    "#     settings=model_settings(l1_size=128000,l2_size=512000,tensor_directory=\"./tensors\"),\n",
    "#     directory=\"test_model\",\n",
    "#     at_loglevel=1\n",
    "# )\n",
    "\n",
    "\n"
   ]
  },
  {
   "cell_type": "code",
   "execution_count": null,
   "id": "8e8fe38c",
   "metadata": {},
   "outputs": [],
   "source": [
    "print(\"Out Name, QSNR NNTool vs Target run\")\n",
    "for outn in G.output_nodes():\n",
    "    out_target = np.fromfile(f\"test_run/{outn.name.capitalize()}.bin\", G.quantization[outn.name].in_qs[0].dtype)\n",
    "    out_nntool = int_execution[G[outn.name].step_idx]\n",
    "    print(f\"{outn.name}, {G.qsnrs([out_target], [out_nntool[0].flatten()])}\")\n",
    "    #print(out_nntool[0].flatten())\n",
    "    #print(out_target)"
   ]
  },
  {
   "cell_type": "markdown",
   "id": "cab0c13a",
   "metadata": {},
   "source": [
    "## Project Generation"
   ]
  },
  {
   "cell_type": "code",
   "execution_count": null,
   "id": "97108b56",
   "metadata": {},
   "outputs": [],
   "source": [
    "G.gen_project(\n",
    "    platform=\"board\",\n",
    "    directory=\"test_prj\",\n",
    "    input_tensors=int_execution[0],\n",
    "    output_tensors=0,\n",
    "    settings=model_settings(l1_size=128000,l2_size=512000,tensor_directory=\"./tensors\"),\n",
    "    cmake=True,\n",
    "    at_loglevel=1)"
   ]
  },
  {
   "cell_type": "code",
   "execution_count": null,
   "id": "563a44a7",
   "metadata": {},
   "outputs": [],
   "source": []
  }
 ],
 "metadata": {
  "kernelspec": {
   "display_name": "Python 3 (ipykernel)",
   "language": "python",
   "name": "python3"
  },
  "language_info": {
   "codemirror_mode": {
    "name": "ipython",
    "version": 3
   },
   "file_extension": ".py",
   "mimetype": "text/x-python",
   "name": "python",
   "nbconvert_exporter": "python",
   "pygments_lexer": "ipython3",
   "version": "3.10.12"
  }
 },
 "nbformat": 4,
 "nbformat_minor": 5
}
